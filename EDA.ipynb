{
 "cells": [
  {
   "metadata": {},
   "cell_type": "markdown",
   "source": "## EDA",
   "id": "720796fb2fd734a3"
  },
  {
   "cell_type": "code",
   "id": "initial_id",
   "metadata": {
    "collapsed": true,
    "ExecuteTime": {
     "end_time": "2024-08-04T21:43:50.337567Z",
     "start_time": "2024-08-04T21:43:46.753410Z"
    }
   },
   "source": "import pandas as pd\n",
   "outputs": [],
   "execution_count": 1
  },
  {
   "metadata": {
    "ExecuteTime": {
     "end_time": "2024-08-04T21:44:21.273280Z",
     "start_time": "2024-08-04T21:44:21.250563Z"
    }
   },
   "cell_type": "code",
   "source": "train = pd.read_csv('data/view_log.csv')",
   "id": "1087ea50a311a746",
   "outputs": [],
   "execution_count": 3
  },
  {
   "metadata": {
    "ExecuteTime": {
     "end_time": "2024-08-04T21:44:27.280991Z",
     "start_time": "2024-08-04T21:44:27.271171Z"
    }
   },
   "cell_type": "code",
   "source": "train.head()",
   "id": "2721ccd7c53a1ec1",
   "outputs": [
    {
     "data": {
      "text/plain": [
       "      userID     articleID userRegion userCountry\n",
       "0  USER_0000  ARTICLE_0661         NY          US\n",
       "1  USER_0000  ARTICLE_2316         NY          US\n",
       "2  USER_0000  ARTICLE_1345         NY          US\n",
       "3  USER_0000  ARTICLE_1089         NY          US\n",
       "4  USER_0000  ARTICLE_1484         NY          US"
      ],
      "text/html": [
       "<div>\n",
       "<style scoped>\n",
       "    .dataframe tbody tr th:only-of-type {\n",
       "        vertical-align: middle;\n",
       "    }\n",
       "\n",
       "    .dataframe tbody tr th {\n",
       "        vertical-align: top;\n",
       "    }\n",
       "\n",
       "    .dataframe thead th {\n",
       "        text-align: right;\n",
       "    }\n",
       "</style>\n",
       "<table border=\"1\" class=\"dataframe\">\n",
       "  <thead>\n",
       "    <tr style=\"text-align: right;\">\n",
       "      <th></th>\n",
       "      <th>userID</th>\n",
       "      <th>articleID</th>\n",
       "      <th>userRegion</th>\n",
       "      <th>userCountry</th>\n",
       "    </tr>\n",
       "  </thead>\n",
       "  <tbody>\n",
       "    <tr>\n",
       "      <th>0</th>\n",
       "      <td>USER_0000</td>\n",
       "      <td>ARTICLE_0661</td>\n",
       "      <td>NY</td>\n",
       "      <td>US</td>\n",
       "    </tr>\n",
       "    <tr>\n",
       "      <th>1</th>\n",
       "      <td>USER_0000</td>\n",
       "      <td>ARTICLE_2316</td>\n",
       "      <td>NY</td>\n",
       "      <td>US</td>\n",
       "    </tr>\n",
       "    <tr>\n",
       "      <th>2</th>\n",
       "      <td>USER_0000</td>\n",
       "      <td>ARTICLE_1345</td>\n",
       "      <td>NY</td>\n",
       "      <td>US</td>\n",
       "    </tr>\n",
       "    <tr>\n",
       "      <th>3</th>\n",
       "      <td>USER_0000</td>\n",
       "      <td>ARTICLE_1089</td>\n",
       "      <td>NY</td>\n",
       "      <td>US</td>\n",
       "    </tr>\n",
       "    <tr>\n",
       "      <th>4</th>\n",
       "      <td>USER_0000</td>\n",
       "      <td>ARTICLE_1484</td>\n",
       "      <td>NY</td>\n",
       "      <td>US</td>\n",
       "    </tr>\n",
       "  </tbody>\n",
       "</table>\n",
       "</div>"
      ]
     },
     "execution_count": 4,
     "metadata": {},
     "output_type": "execute_result"
    }
   ],
   "execution_count": 4
  },
  {
   "metadata": {
    "ExecuteTime": {
     "end_time": "2024-08-04T21:45:26.984753Z",
     "start_time": "2024-08-04T21:45:26.957639Z"
    }
   },
   "cell_type": "code",
   "source": [
    "# 결측치 없는지 확인\n",
    "# 데이터는 총 42717개 \n",
    "\n",
    "train.info()"
   ],
   "id": "6296253d5a502104",
   "outputs": [
    {
     "name": "stdout",
     "output_type": "stream",
     "text": [
      "<class 'pandas.core.frame.DataFrame'>\n",
      "RangeIndex: 42717 entries, 0 to 42716\n",
      "Data columns (total 4 columns):\n",
      " #   Column       Non-Null Count  Dtype \n",
      "---  ------       --------------  ----- \n",
      " 0   userID       42717 non-null  object\n",
      " 1   articleID    42717 non-null  object\n",
      " 2   userRegion   42717 non-null  object\n",
      " 3   userCountry  42717 non-null  object\n",
      "dtypes: object(4)\n",
      "memory usage: 1.3+ MB\n"
     ]
    }
   ],
   "execution_count": 5
  },
  {
   "metadata": {
    "ExecuteTime": {
     "end_time": "2024-08-04T21:51:30.663518Z",
     "start_time": "2024-08-04T21:51:30.650897Z"
    }
   },
   "cell_type": "code",
   "source": [
    "# 데이터에 대한 정보 \n",
    "print(f\"총 유저는 몇 명인지? : {train['userID'].nunique()}\")\n",
    "print(f\"총 기사의 수는 몇 개인지? : {train['articleID'].nunique()}\")\n",
    "print(f\"유저의 살고 있는 지역은 몇 개인지? : {train['userRegion'].nunique()}\")\n",
    "print(f\"유저가 살고 있는 나라는 몇 개인지? : {train['userCountry'].nunique()}\")\n"
   ],
   "id": "fd056eeb2c77bd11",
   "outputs": [
    {
     "name": "stdout",
     "output_type": "stream",
     "text": [
      "총 유저는 몇 명인지? : 1415\n",
      "총 기사의 수는 몇 개인지? : 2879\n",
      "유저의 살고 있는 지역은 몇 개인지? : 56\n",
      "유저가 살고 있는 나라는 몇 개인지? : 21\n"
     ]
    }
   ],
   "execution_count": 9
  },
  {
   "metadata": {},
   "cell_type": "code",
   "outputs": [],
   "execution_count": null,
   "source": "",
   "id": "ec561d1b5c1cac00"
  }
 ],
 "metadata": {
  "kernelspec": {
   "display_name": "Python 3",
   "language": "python",
   "name": "python3"
  },
  "language_info": {
   "codemirror_mode": {
    "name": "ipython",
    "version": 2
   },
   "file_extension": ".py",
   "mimetype": "text/x-python",
   "name": "python",
   "nbconvert_exporter": "python",
   "pygments_lexer": "ipython2",
   "version": "2.7.6"
  }
 },
 "nbformat": 4,
 "nbformat_minor": 5
}
