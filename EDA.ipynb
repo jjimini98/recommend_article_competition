{
 "cells": [
  {
   "metadata": {},
   "cell_type": "markdown",
   "source": "## EDA",
   "id": "720796fb2fd734a3"
  },
  {
   "cell_type": "code",
   "id": "initial_id",
   "metadata": {
    "collapsed": true,
    "ExecuteTime": {
     "end_time": "2024-08-05T22:23:36.929434Z",
     "start_time": "2024-08-05T22:23:36.926550Z"
    }
   },
   "source": "import pandas as pd\n",
   "outputs": [],
   "execution_count": 31
  },
  {
   "metadata": {
    "ExecuteTime": {
     "end_time": "2024-08-05T22:23:37.550706Z",
     "start_time": "2024-08-05T22:23:37.325749Z"
    }
   },
   "cell_type": "code",
   "source": [
    "log_data = pd.read_csv('data/view_log.csv')\n",
    "article_data = pd.read_csv('data/article_info.csv')"
   ],
   "id": "1087ea50a311a746",
   "outputs": [],
   "execution_count": 32
  },
  {
   "metadata": {
    "ExecuteTime": {
     "end_time": "2024-08-05T22:23:37.612539Z",
     "start_time": "2024-08-05T22:23:37.608075Z"
    }
   },
   "cell_type": "code",
   "source": [
    "logs = log_data.copy()\n",
    "articles = article_data.copy()"
   ],
   "id": "6bf4c22e241d5b65",
   "outputs": [],
   "execution_count": 33
  },
  {
   "metadata": {
    "ExecuteTime": {
     "end_time": "2024-08-05T22:23:44.162346Z",
     "start_time": "2024-08-05T22:23:44.134543Z"
    }
   },
   "cell_type": "code",
   "source": "logs.info()",
   "id": "5609ac3957c88c60",
   "outputs": [
    {
     "name": "stdout",
     "output_type": "stream",
     "text": [
      "<class 'pandas.core.frame.DataFrame'>\n",
      "RangeIndex: 42717 entries, 0 to 42716\n",
      "Data columns (total 4 columns):\n",
      " #   Column       Non-Null Count  Dtype \n",
      "---  ------       --------------  ----- \n",
      " 0   userID       42717 non-null  object\n",
      " 1   articleID    42717 non-null  object\n",
      " 2   userRegion   42717 non-null  object\n",
      " 3   userCountry  42717 non-null  object\n",
      "dtypes: object(4)\n",
      "memory usage: 1.3+ MB\n"
     ]
    }
   ],
   "execution_count": 35
  },
  {
   "metadata": {
    "ExecuteTime": {
     "end_time": "2024-08-05T22:23:49.655042Z",
     "start_time": "2024-08-05T22:23:49.641007Z"
    }
   },
   "cell_type": "code",
   "source": [
    "# 데이터에 대한 정보 \n",
    "print(f\"총 유저는 몇 명인지? : {logs['userID'].nunique()}\")\n",
    "print(f\"총 기사의 수는 몇 개인지? : {logs['articleID'].nunique()}\")\n",
    "print(f\"유저의 살고 있는 지역은 몇 개인지? : {logs['userRegion'].nunique()}\")\n",
    "print(f\"유저가 살고 있는 나라는 몇 개인지? : {logs['userCountry'].nunique()}\")\n"
   ],
   "id": "6ab57f57ff1187a8",
   "outputs": [
    {
     "name": "stdout",
     "output_type": "stream",
     "text": [
      "총 유저는 몇 명인지? : 1415\n",
      "총 기사의 수는 몇 개인지? : 2879\n",
      "유저의 살고 있는 지역은 몇 개인지? : 56\n",
      "유저가 살고 있는 나라는 몇 개인지? : 21\n"
     ]
    }
   ],
   "execution_count": 36
  },
  {
   "metadata": {
    "ExecuteTime": {
     "end_time": "2024-08-05T22:24:06.080213Z",
     "start_time": "2024-08-05T22:24:06.074188Z"
    }
   },
   "cell_type": "code",
   "source": [
    "# 데이터에 대한 정보 \n",
    "print(f\"총 유저는 몇 명인지? : {articles['userID'].nunique()}\")\n",
    "print(f\"총 기사의 수는 몇 개인지? : {articles['articleID'].nunique()}\")\n",
    "print(f\"기사의 개수? : {articles['Title'].nunique()}\")\n",
    "# print(f\"유저가 살고 있는 나라는 몇 개인지? : {article['Content'].nunique()}\")\n"
   ],
   "id": "79bdb301373267c0",
   "outputs": [
    {
     "name": "stdout",
     "output_type": "stream",
     "text": [
      "총 유저는 몇 명인지? : 251\n",
      "총 기사의 수는 몇 개인지? : 3008\n",
      "기사의 개수? : 3008\n"
     ]
    }
   ],
   "execution_count": 37
  },
  {
   "metadata": {},
   "cell_type": "markdown",
   "source": [
    "article info의 유저의 수와 view log의 유저의 수가 다르다? \n",
    "\n",
    "*view_log에 포함되지 않은 유저가 존재할 수 있으며, 해당 유저는 추천의 대상이 되지 않음\n",
    "\n",
    "*view log는 학습 데이터이며 해당 데이터에 존재하는 유저만 추천의 대상이 됨\n"
   ],
   "id": "3bc28c8fc63d0148"
  },
  {
   "metadata": {
    "ExecuteTime": {
     "end_time": "2024-08-05T22:24:31.488190Z",
     "start_time": "2024-08-05T22:24:31.016584Z"
    }
   },
   "cell_type": "code",
   "source": [
    "# log에는 없지만 article에는 있는 유저와 그의 로그는 삭제하자. \n",
    "\n",
    "for user in articles['userID'].unique():\n",
    "    if user in logs['userID'].unique():\n",
    "        continue\n",
    "    else:\n",
    "        print(user)\n",
    "        idx = articles[articles['userID'] == user].index\n",
    "        articles.drop(idx , inplace=True)\n"
   ],
   "id": "85ca34ad561b2d7d",
   "outputs": [
    {
     "name": "stdout",
     "output_type": "stream",
     "text": [
      "USER_1421\n",
      "USER_1422\n",
      "USER_1427\n",
      "USER_1429\n",
      "USER_1424\n",
      "USER_1425\n",
      "USER_1428\n",
      "USER_1426\n",
      "USER_1423\n"
     ]
    }
   ],
   "execution_count": 38
  },
  {
   "metadata": {
    "ExecuteTime": {
     "end_time": "2024-08-05T22:24:38.005815Z",
     "start_time": "2024-08-05T22:24:37.989830Z"
    }
   },
   "cell_type": "code",
   "source": "articles.info()",
   "id": "92ebd46438996489",
   "outputs": [
    {
     "name": "stdout",
     "output_type": "stream",
     "text": [
      "<class 'pandas.core.frame.DataFrame'>\n",
      "Int64Index: 2997 entries, 0 to 3007\n",
      "Data columns (total 8 columns):\n",
      " #   Column       Non-Null Count  Dtype \n",
      "---  ------       --------------  ----- \n",
      " 0   articleID    2997 non-null   object\n",
      " 1   Title        2997 non-null   object\n",
      " 2   Content      2997 non-null   object\n",
      " 3   Format       2997 non-null   object\n",
      " 4   Language     2997 non-null   object\n",
      " 5   userID       2997 non-null   object\n",
      " 6   userCountry  655 non-null    object\n",
      " 7   userRegion   653 non-null    object\n",
      "dtypes: object(8)\n",
      "memory usage: 210.7+ KB\n"
     ]
    }
   ],
   "execution_count": 39
  },
  {
   "metadata": {},
   "cell_type": "code",
   "outputs": [],
   "execution_count": null,
   "source": "data = pd.Dataframe()",
   "id": "623bac9e58dd0170"
  },
  {
   "metadata": {
    "ExecuteTime": {
     "end_time": "2024-08-05T22:29:21.035501Z",
     "start_time": "2024-08-05T22:29:20.988527Z"
    }
   },
   "cell_type": "code",
   "source": [
    "# log의 각 행마다 돌면서 article ID가 같으면 article에서 행을 붙이기 \n",
    "\n",
    "for idx, log in logs.iterrows():\n",
    "    for i , article in articles.iterrows():\n",
    "        if log['articleID'] == article['articleID']:\n",
    "            new = pd.concat(log, article, keys=['articleID'])\n",
    "            print(new)\n",
    "            break"
   ],
   "id": "e93e0bc93d1c55a",
   "outputs": [
    {
     "name": "stderr",
     "output_type": "stream",
     "text": [
      "/var/folders/rn/qlbt28hj2nz911zwpz6y63nc0000gn/T/ipykernel_3094/2672365046.py:6: FutureWarning: In a future version of pandas all arguments of concat except for the argument 'objs' will be keyword-only.\n",
      "  new = pd.concat(log, article, keys=['articleID'])\n"
     ]
    },
    {
     "ename": "TypeError",
     "evalue": "first argument must be an iterable of pandas objects, you passed an object of type \"Series\"",
     "output_type": "error",
     "traceback": [
      "\u001B[0;31m---------------------------------------------------------------------------\u001B[0m",
      "\u001B[0;31mTypeError\u001B[0m                                 Traceback (most recent call last)",
      "Cell \u001B[0;32mIn[45], line 6\u001B[0m\n\u001B[1;32m      4\u001B[0m \u001B[38;5;28;01mfor\u001B[39;00m i , article \u001B[38;5;129;01min\u001B[39;00m articles\u001B[38;5;241m.\u001B[39miterrows():\n\u001B[1;32m      5\u001B[0m     \u001B[38;5;28;01mif\u001B[39;00m log[\u001B[38;5;124m'\u001B[39m\u001B[38;5;124marticleID\u001B[39m\u001B[38;5;124m'\u001B[39m] \u001B[38;5;241m==\u001B[39m article[\u001B[38;5;124m'\u001B[39m\u001B[38;5;124marticleID\u001B[39m\u001B[38;5;124m'\u001B[39m]:\n\u001B[0;32m----> 6\u001B[0m         new \u001B[38;5;241m=\u001B[39m \u001B[43mpd\u001B[49m\u001B[38;5;241;43m.\u001B[39;49m\u001B[43mconcat\u001B[49m\u001B[43m(\u001B[49m\u001B[43mlog\u001B[49m\u001B[43m,\u001B[49m\u001B[43m \u001B[49m\u001B[43marticle\u001B[49m\u001B[43m,\u001B[49m\u001B[43m \u001B[49m\u001B[43mkeys\u001B[49m\u001B[38;5;241;43m=\u001B[39;49m\u001B[43m[\u001B[49m\u001B[38;5;124;43m'\u001B[39;49m\u001B[38;5;124;43marticleID\u001B[39;49m\u001B[38;5;124;43m'\u001B[39;49m\u001B[43m]\u001B[49m\u001B[43m)\u001B[49m\n\u001B[1;32m      7\u001B[0m         \u001B[38;5;28mprint\u001B[39m(new)\n\u001B[1;32m      8\u001B[0m         \u001B[38;5;28;01mbreak\u001B[39;00m\n",
      "File \u001B[0;32m/Library/Frameworks/Python.framework/Versions/3.11/lib/python3.11/site-packages/pandas/util/_decorators.py:331\u001B[0m, in \u001B[0;36mdeprecate_nonkeyword_arguments.<locals>.decorate.<locals>.wrapper\u001B[0;34m(*args, **kwargs)\u001B[0m\n\u001B[1;32m    325\u001B[0m \u001B[38;5;28;01mif\u001B[39;00m \u001B[38;5;28mlen\u001B[39m(args) \u001B[38;5;241m>\u001B[39m num_allow_args:\n\u001B[1;32m    326\u001B[0m     warnings\u001B[38;5;241m.\u001B[39mwarn(\n\u001B[1;32m    327\u001B[0m         msg\u001B[38;5;241m.\u001B[39mformat(arguments\u001B[38;5;241m=\u001B[39m_format_argument_list(allow_args)),\n\u001B[1;32m    328\u001B[0m         \u001B[38;5;167;01mFutureWarning\u001B[39;00m,\n\u001B[1;32m    329\u001B[0m         stacklevel\u001B[38;5;241m=\u001B[39mfind_stack_level(),\n\u001B[1;32m    330\u001B[0m     )\n\u001B[0;32m--> 331\u001B[0m \u001B[38;5;28;01mreturn\u001B[39;00m \u001B[43mfunc\u001B[49m\u001B[43m(\u001B[49m\u001B[38;5;241;43m*\u001B[39;49m\u001B[43margs\u001B[49m\u001B[43m,\u001B[49m\u001B[43m \u001B[49m\u001B[38;5;241;43m*\u001B[39;49m\u001B[38;5;241;43m*\u001B[39;49m\u001B[43mkwargs\u001B[49m\u001B[43m)\u001B[49m\n",
      "File \u001B[0;32m/Library/Frameworks/Python.framework/Versions/3.11/lib/python3.11/site-packages/pandas/core/reshape/concat.py:368\u001B[0m, in \u001B[0;36mconcat\u001B[0;34m(objs, axis, join, ignore_index, keys, levels, names, verify_integrity, sort, copy)\u001B[0m\n\u001B[1;32m    146\u001B[0m \u001B[38;5;129m@deprecate_nonkeyword_arguments\u001B[39m(version\u001B[38;5;241m=\u001B[39m\u001B[38;5;28;01mNone\u001B[39;00m, allowed_args\u001B[38;5;241m=\u001B[39m[\u001B[38;5;124m\"\u001B[39m\u001B[38;5;124mobjs\u001B[39m\u001B[38;5;124m\"\u001B[39m])\n\u001B[1;32m    147\u001B[0m \u001B[38;5;28;01mdef\u001B[39;00m \u001B[38;5;21mconcat\u001B[39m(\n\u001B[1;32m    148\u001B[0m     objs: Iterable[NDFrame] \u001B[38;5;241m|\u001B[39m Mapping[HashableT, NDFrame],\n\u001B[0;32m   (...)\u001B[0m\n\u001B[1;32m    157\u001B[0m     copy: \u001B[38;5;28mbool\u001B[39m \u001B[38;5;241m=\u001B[39m \u001B[38;5;28;01mTrue\u001B[39;00m,\n\u001B[1;32m    158\u001B[0m ) \u001B[38;5;241m-\u001B[39m\u001B[38;5;241m>\u001B[39m DataFrame \u001B[38;5;241m|\u001B[39m Series:\n\u001B[1;32m    159\u001B[0m \u001B[38;5;250m    \u001B[39m\u001B[38;5;124;03m\"\"\"\u001B[39;00m\n\u001B[1;32m    160\u001B[0m \u001B[38;5;124;03m    Concatenate pandas objects along a particular axis.\u001B[39;00m\n\u001B[1;32m    161\u001B[0m \n\u001B[0;32m   (...)\u001B[0m\n\u001B[1;32m    366\u001B[0m \u001B[38;5;124;03m    1   3   4\u001B[39;00m\n\u001B[1;32m    367\u001B[0m \u001B[38;5;124;03m    \"\"\"\u001B[39;00m\n\u001B[0;32m--> 368\u001B[0m     op \u001B[38;5;241m=\u001B[39m \u001B[43m_Concatenator\u001B[49m\u001B[43m(\u001B[49m\n\u001B[1;32m    369\u001B[0m \u001B[43m        \u001B[49m\u001B[43mobjs\u001B[49m\u001B[43m,\u001B[49m\n\u001B[1;32m    370\u001B[0m \u001B[43m        \u001B[49m\u001B[43maxis\u001B[49m\u001B[38;5;241;43m=\u001B[39;49m\u001B[43maxis\u001B[49m\u001B[43m,\u001B[49m\n\u001B[1;32m    371\u001B[0m \u001B[43m        \u001B[49m\u001B[43mignore_index\u001B[49m\u001B[38;5;241;43m=\u001B[39;49m\u001B[43mignore_index\u001B[49m\u001B[43m,\u001B[49m\n\u001B[1;32m    372\u001B[0m \u001B[43m        \u001B[49m\u001B[43mjoin\u001B[49m\u001B[38;5;241;43m=\u001B[39;49m\u001B[43mjoin\u001B[49m\u001B[43m,\u001B[49m\n\u001B[1;32m    373\u001B[0m \u001B[43m        \u001B[49m\u001B[43mkeys\u001B[49m\u001B[38;5;241;43m=\u001B[39;49m\u001B[43mkeys\u001B[49m\u001B[43m,\u001B[49m\n\u001B[1;32m    374\u001B[0m \u001B[43m        \u001B[49m\u001B[43mlevels\u001B[49m\u001B[38;5;241;43m=\u001B[39;49m\u001B[43mlevels\u001B[49m\u001B[43m,\u001B[49m\n\u001B[1;32m    375\u001B[0m \u001B[43m        \u001B[49m\u001B[43mnames\u001B[49m\u001B[38;5;241;43m=\u001B[39;49m\u001B[43mnames\u001B[49m\u001B[43m,\u001B[49m\n\u001B[1;32m    376\u001B[0m \u001B[43m        \u001B[49m\u001B[43mverify_integrity\u001B[49m\u001B[38;5;241;43m=\u001B[39;49m\u001B[43mverify_integrity\u001B[49m\u001B[43m,\u001B[49m\n\u001B[1;32m    377\u001B[0m \u001B[43m        \u001B[49m\u001B[43mcopy\u001B[49m\u001B[38;5;241;43m=\u001B[39;49m\u001B[43mcopy\u001B[49m\u001B[43m,\u001B[49m\n\u001B[1;32m    378\u001B[0m \u001B[43m        \u001B[49m\u001B[43msort\u001B[49m\u001B[38;5;241;43m=\u001B[39;49m\u001B[43msort\u001B[49m\u001B[43m,\u001B[49m\n\u001B[1;32m    379\u001B[0m \u001B[43m    \u001B[49m\u001B[43m)\u001B[49m\n\u001B[1;32m    381\u001B[0m     \u001B[38;5;28;01mreturn\u001B[39;00m op\u001B[38;5;241m.\u001B[39mget_result()\n",
      "File \u001B[0;32m/Library/Frameworks/Python.framework/Versions/3.11/lib/python3.11/site-packages/pandas/core/reshape/concat.py:403\u001B[0m, in \u001B[0;36m_Concatenator.__init__\u001B[0;34m(self, objs, axis, join, keys, levels, names, ignore_index, verify_integrity, copy, sort)\u001B[0m\n\u001B[1;32m    389\u001B[0m \u001B[38;5;28;01mdef\u001B[39;00m \u001B[38;5;21m__init__\u001B[39m(\n\u001B[1;32m    390\u001B[0m     \u001B[38;5;28mself\u001B[39m,\n\u001B[1;32m    391\u001B[0m     objs: Iterable[NDFrame] \u001B[38;5;241m|\u001B[39m Mapping[HashableT, NDFrame],\n\u001B[0;32m   (...)\u001B[0m\n\u001B[1;32m    400\u001B[0m     sort\u001B[38;5;241m=\u001B[39m\u001B[38;5;28;01mFalse\u001B[39;00m,\n\u001B[1;32m    401\u001B[0m ) \u001B[38;5;241m-\u001B[39m\u001B[38;5;241m>\u001B[39m \u001B[38;5;28;01mNone\u001B[39;00m:\n\u001B[1;32m    402\u001B[0m     \u001B[38;5;28;01mif\u001B[39;00m \u001B[38;5;28misinstance\u001B[39m(objs, (ABCSeries, ABCDataFrame, \u001B[38;5;28mstr\u001B[39m)):\n\u001B[0;32m--> 403\u001B[0m         \u001B[38;5;28;01mraise\u001B[39;00m \u001B[38;5;167;01mTypeError\u001B[39;00m(\n\u001B[1;32m    404\u001B[0m             \u001B[38;5;124m\"\u001B[39m\u001B[38;5;124mfirst argument must be an iterable of pandas \u001B[39m\u001B[38;5;124m\"\u001B[39m\n\u001B[1;32m    405\u001B[0m             \u001B[38;5;124mf\u001B[39m\u001B[38;5;124m'\u001B[39m\u001B[38;5;124mobjects, you passed an object of type \u001B[39m\u001B[38;5;124m\"\u001B[39m\u001B[38;5;132;01m{\u001B[39;00m\u001B[38;5;28mtype\u001B[39m(objs)\u001B[38;5;241m.\u001B[39m\u001B[38;5;18m__name__\u001B[39m\u001B[38;5;132;01m}\u001B[39;00m\u001B[38;5;124m\"\u001B[39m\u001B[38;5;124m'\u001B[39m\n\u001B[1;32m    406\u001B[0m         )\n\u001B[1;32m    408\u001B[0m     \u001B[38;5;28;01mif\u001B[39;00m join \u001B[38;5;241m==\u001B[39m \u001B[38;5;124m\"\u001B[39m\u001B[38;5;124mouter\u001B[39m\u001B[38;5;124m\"\u001B[39m:\n\u001B[1;32m    409\u001B[0m         \u001B[38;5;28mself\u001B[39m\u001B[38;5;241m.\u001B[39mintersect \u001B[38;5;241m=\u001B[39m \u001B[38;5;28;01mFalse\u001B[39;00m\n",
      "\u001B[0;31mTypeError\u001B[0m: first argument must be an iterable of pandas objects, you passed an object of type \"Series\""
     ]
    }
   ],
   "execution_count": 45
  },
  {
   "metadata": {
    "ExecuteTime": {
     "end_time": "2024-08-05T22:12:47.992135Z",
     "start_time": "2024-08-05T22:12:47.985801Z"
    }
   },
   "cell_type": "code",
   "source": "article['userID'].unique()",
   "id": "84fc04331035e764",
   "outputs": [
    {
     "data": {
      "text/plain": [
       "array(['USER_0683', 'USER_1129', 'USER_0256', 'USER_1304', 'USER_0336',\n",
       "       'USER_1324', 'USER_0827', 'USER_1421', 'USER_0674', 'USER_0222',\n",
       "       'USER_0113', 'USER_0798', 'USER_0215', 'USER_0063', 'USER_1069',\n",
       "       'USER_1063', 'USER_0878', 'USER_0873', 'USER_0952', 'USER_1110',\n",
       "       'USER_0947', 'USER_1179', 'USER_1420', 'USER_0603', 'USER_0657',\n",
       "       'USER_1183', 'USER_1327', 'USER_0964', 'USER_0867', 'USER_0959',\n",
       "       'USER_1166', 'USER_0704', 'USER_0799', 'USER_1255', 'USER_1137',\n",
       "       'USER_0344', 'USER_0017', 'USER_0595', 'USER_1010', 'USER_1308',\n",
       "       'USER_0392', 'USER_0672', 'USER_0228', 'USER_0112', 'USER_0416',\n",
       "       'USER_0301', 'USER_1391', 'USER_1242', 'USER_1106', 'USER_1163',\n",
       "       'USER_0401', 'USER_0583', 'USER_0492', 'USER_1321', 'USER_0503',\n",
       "       'USER_1213', 'USER_0177', 'USER_0557', 'USER_1288', 'USER_0465',\n",
       "       'USER_0080', 'USER_0676', 'USER_0094', 'USER_0566', 'USER_1144',\n",
       "       'USER_1177', 'USER_0623', 'USER_0391', 'USER_0281', 'USER_0418',\n",
       "       'USER_1149', 'USER_0189', 'USER_0692', 'USER_0321', 'USER_0775',\n",
       "       'USER_0805', 'USER_0685', 'USER_0502', 'USER_0026', 'USER_0772',\n",
       "       'USER_0217', 'USER_0129', 'USER_1347', 'USER_0294', 'USER_0163',\n",
       "       'USER_0067', 'USER_0912', 'USER_0740', 'USER_0428', 'USER_0915',\n",
       "       'USER_0681', 'USER_0571', 'USER_0326', 'USER_1169', 'USER_0828',\n",
       "       'USER_0882', 'USER_1185', 'USER_0750', 'USER_1328', 'USER_0951',\n",
       "       'USER_0088', 'USER_0678', 'USER_0513', 'USER_0048', 'USER_0464',\n",
       "       'USER_0743', 'USER_0684', 'USER_0261', 'USER_1283', 'USER_0243',\n",
       "       'USER_1353', 'USER_1187', 'USER_1093', 'USER_0160', 'USER_0532',\n",
       "       'USER_0123', 'USER_0480', 'USER_0179', 'USER_0014', 'USER_0905',\n",
       "       'USER_0368', 'USER_1030', 'USER_0801', 'USER_1260', 'USER_1359',\n",
       "       'USER_0147', 'USER_0146', 'USER_0071', 'USER_0640', 'USER_1186',\n",
       "       'USER_1071', 'USER_0771', 'USER_1191', 'USER_0149', 'USER_0816',\n",
       "       'USER_1005', 'USER_1088', 'USER_0167', 'USER_0226', 'USER_0477',\n",
       "       'USER_0596', 'USER_0407', 'USER_1015', 'USER_0241', 'USER_0181',\n",
       "       'USER_0495', 'USER_0264', 'USER_0434', 'USER_1233', 'USER_1194',\n",
       "       'USER_0493', 'USER_0210', 'USER_1289', 'USER_0976', 'USER_0658',\n",
       "       'USER_0466', 'USER_0220', 'USER_0719', 'USER_0926', 'USER_1422',\n",
       "       'USER_1237', 'USER_0630', 'USER_0388', 'USER_0617', 'USER_0338',\n",
       "       'USER_0417', 'USER_0154', 'USER_0754', 'USER_1244', 'USER_1117',\n",
       "       'USER_1052', 'USER_0178', 'USER_0066', 'USER_1299', 'USER_0883',\n",
       "       'USER_0839', 'USER_0413', 'USER_1011', 'USER_0358', 'USER_0486',\n",
       "       'USER_0780', 'USER_0047', 'USER_1202', 'USER_0252', 'USER_0938',\n",
       "       'USER_0270', 'USER_1417', 'USER_1427', 'USER_0572', 'USER_0943',\n",
       "       'USER_1362', 'USER_1297', 'USER_1429', 'USER_0175', 'USER_0084',\n",
       "       'USER_1091', 'USER_0000', 'USER_0804', 'USER_0509', 'USER_0831',\n",
       "       'USER_0304', 'USER_1049', 'USER_0520', 'USER_1142', 'USER_0208',\n",
       "       'USER_1118', 'USER_1218', 'USER_1424', 'USER_1147', 'USER_0254',\n",
       "       'USER_0404', 'USER_0618', 'USER_0291', 'USER_0021', 'USER_1182',\n",
       "       'USER_0660', 'USER_0956', 'USER_0942', 'USER_0198', 'USER_1258',\n",
       "       'USER_0414', 'USER_1425', 'USER_0900', 'USER_0899', 'USER_0589',\n",
       "       'USER_0688', 'USER_1428', 'USER_1376', 'USER_0826', 'USER_1426',\n",
       "       'USER_0379', 'USER_0844', 'USER_0399', 'USER_0761', 'USER_0289',\n",
       "       'USER_0484', 'USER_1240', 'USER_1123', 'USER_1423', 'USER_1174',\n",
       "       'USER_1023', 'USER_0469', 'USER_0456', 'USER_0132', 'USER_0255',\n",
       "       'USER_1369', 'USER_0563', 'USER_1039', 'USER_0135', 'USER_0564',\n",
       "       'USER_1210'], dtype=object)"
      ]
     },
     "execution_count": 24,
     "metadata": {},
     "output_type": "execute_result"
    }
   ],
   "execution_count": 24
  },
  {
   "metadata": {
    "ExecuteTime": {
     "end_time": "2024-08-05T22:03:32.888284Z",
     "start_time": "2024-08-05T22:03:32.885057Z"
    }
   },
   "cell_type": "code",
   "source": "articles = article[['articleID', 'Title', 'Content','userID']]",
   "id": "454a6391a10b279d",
   "outputs": [],
   "execution_count": 17
  },
  {
   "metadata": {
    "ExecuteTime": {
     "end_time": "2024-08-05T22:03:32.904436Z",
     "start_time": "2024-08-05T22:03:32.889220Z"
    }
   },
   "cell_type": "code",
   "source": "data = pd.merge(articles, log, how='inner', on= ['articleID','userID'])",
   "id": "58f9f19e857158f6",
   "outputs": [],
   "execution_count": 18
  },
  {
   "metadata": {
    "ExecuteTime": {
     "end_time": "2024-08-05T22:03:32.913980Z",
     "start_time": "2024-08-05T22:03:32.905303Z"
    }
   },
   "cell_type": "code",
   "source": "data.info()",
   "id": "eee786a71bf8f6d3",
   "outputs": [
    {
     "name": "stdout",
     "output_type": "stream",
     "text": [
      "<class 'pandas.core.frame.DataFrame'>\n",
      "Int64Index: 4528 entries, 0 to 4527\n",
      "Data columns (total 6 columns):\n",
      " #   Column       Non-Null Count  Dtype \n",
      "---  ------       --------------  ----- \n",
      " 0   articleID    4528 non-null   object\n",
      " 1   Title        4528 non-null   object\n",
      " 2   Content      4528 non-null   object\n",
      " 3   userID       4528 non-null   object\n",
      " 4   userRegion   4528 non-null   object\n",
      " 5   userCountry  4528 non-null   object\n",
      "dtypes: object(6)\n",
      "memory usage: 247.6+ KB\n"
     ]
    }
   ],
   "execution_count": 19
  },
  {
   "metadata": {},
   "cell_type": "code",
   "source": "",
   "id": "fd056eeb2c77bd11",
   "outputs": [],
   "execution_count": null
  },
  {
   "metadata": {},
   "cell_type": "code",
   "source": "# article_info 와 view log 데이터 프레임 합치기 ",
   "id": "ec561d1b5c1cac00",
   "outputs": [],
   "execution_count": null
  }
 ],
 "metadata": {
  "kernelspec": {
   "display_name": "Python 3",
   "language": "python",
   "name": "python3"
  },
  "language_info": {
   "codemirror_mode": {
    "name": "ipython",
    "version": 2
   },
   "file_extension": ".py",
   "mimetype": "text/x-python",
   "name": "python",
   "nbconvert_exporter": "python",
   "pygments_lexer": "ipython2",
   "version": "2.7.6"
  }
 },
 "nbformat": 4,
 "nbformat_minor": 5
}
